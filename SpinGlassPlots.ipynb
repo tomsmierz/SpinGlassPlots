{
 "cells": [
  {
   "cell_type": "markdown",
   "source": [
    "# SpinGlassPlots"
   ],
   "metadata": {
    "collapsed": false,
    "pycharm": {
     "name": "#%% md\n"
    }
   }
  },
  {
   "cell_type": "code",
   "execution_count": 1,
   "outputs": [],
   "source": [
    "# imports\n",
    "import os\n",
    "import glob\n",
    "import pandas as pd\n",
    "import numpy as np\n",
    "import matplotlib.pyplot as plt\n",
    "import matplotlib.ticker as ticker\n",
    "from matplotlib.ticker import MaxNLocator\n",
    "import itertools\n",
    "import re\n",
    "\n",
    "\n",
    "cwd = os.getcwd()"
   ],
   "metadata": {
    "collapsed": false,
    "pycharm": {
     "name": "#%%\n"
    }
   }
  },
  {
   "cell_type": "markdown",
   "source": [],
   "metadata": {
    "collapsed": false,
    "pycharm": {
     "name": "#%% md\n"
    }
   }
  },
  {
   "cell_type": "code",
   "execution_count": 101,
   "outputs": [
    {
     "name": "stdout",
     "output_type": "stream",
     "text": [
      "Successfully created dataframe for CBFM-P_P16_dwave with shape (100, 4)\n",
      "Successfully created dataframe for CBFM-P_P16_sb_updated with shape (100, 7)\n",
      "Successfully created dataframe for CBFM-P_P16_truncate2^12 with shape (80, 22)\n",
      "Successfully created dataframe for CBFM-P_P16_truncate2^16 with shape (22, 22)\n",
      "Successfully created dataframe for CBFM-P_P4_dwave with shape (100, 4)\n",
      "Successfully created dataframe for CBFM-P_P4_truncate2^12 with shape (800, 22)\n",
      "Successfully created dataframe for CBFM-P_P4_truncate2^16 with shape (800, 22)\n",
      "Successfully created dataframe for CBFM-P_P4_truncate2^8 with shape (800, 22)\n",
      "Successfully created dataframe for CBFM-P_P8_truncate2^12 with shape (800, 22)\n",
      "Successfully created dataframe for CBFM-P_P8_truncate2^16 with shape (800, 22)\n",
      "Successfully created dataframe for CBFM_P12_sb with shape (100, 6)\n",
      "Successfully created dataframe for CBFM_P16_sb with shape (100, 6)\n",
      "Successfully created dataframe for CBFM_P4_sb with shape (100, 6)\n",
      "Successfully created dataframe for CBFM_P8_sb with shape (100, 6)\n",
      "Successfully created dataframe for P16_CBFM-P_tr2^12 with shape (400, 21)\n",
      "Successfully created dataframe for P16_CBFM-P_tr2^16 with shape (400, 21)\n",
      "Successfully created dataframe for P16_CBFM-P_tr2^20 with shape (160, 21)\n",
      "Successfully created dataframe for RCO_Z3_truncate2^8_i1-5 with shape (320, 22)\n",
      "Successfully created dataframe for RCO_Z4_truncate2^8 with shape (80, 22)\n",
      "Successfully created dataframe for sb_P16 with shape (100, 6)\n",
      "Successfully created dataframe for Z3_RCO_tr2^10 with shape (800, 21)\n",
      "Successfully created dataframe for Z3_RCO_tr2^14 with shape (51, 21)\n"
     ]
    }
   ],
   "source": [
    "#load data\n",
    "path = 'data'\n",
    "files = glob.glob(path + '/*.csv')\n",
    "data_frames = {}\n",
    "for f in files:\n",
    "    name = os.path.basename(f).replace('.csv', '')\n",
    "    temp_df = pd.read_csv(f, sep=\";\")\n",
    "    temp_df = temp_df.dropna(axis=1, how='all')\n",
    "    # create new column with filename\n",
    "    if temp_df[\"instance\"].dtype == \"object\":\n",
    "        temp_df[\"instance\"] = temp_df[\"instance\"].str.replace(\"_sg.txt\", \"\").astype(int)\n",
    "\n",
    "    temp_df['filename'] = name\n",
    "    if name in [\"CBFM-P_P4_dwave\", \"CBFM-P_P16_dwave\"]:\n",
    "        temp_df = temp_df.drop(\"Unnamed: 0\", axis=1)\n",
    "        temp_df.rename(columns = {'best_dwave':'energy'}, inplace = True)\n",
    "\n",
    "    # add dataframe to dictionary\n",
    "    data_frames[name] = temp_df\n",
    "    print(f'Successfully created dataframe for {name} with shape {temp_df.shape}')"
   ],
   "metadata": {
    "collapsed": false,
    "pycharm": {
     "name": "#%%\n"
    }
   }
  },
  {
   "cell_type": "code",
   "execution_count": 116,
   "outputs": [],
   "source": [
    "class UniversalPlotter:\n",
    "    def __init__(self, data: dict):\n",
    "        self.data_frames = data\n",
    "\n",
    "    def plot(self, tables, quantities):\n",
    "        ...\n",
    "\n",
    "    def plot_energies(self, *args, base=\"best\", title = \"energy comparison\"):\n",
    "        instance_list = []\n",
    "        for table in args:\n",
    "            instances = self.data_frames[table][\"instance\"].unique()\n",
    "            instance_list.append(instances)\n",
    "        instances = min(instance_list, key=len)\n",
    "\n",
    "        table_energies = {}\n",
    "        for table in args:\n",
    "            energy = []\n",
    "            for i in instances:\n",
    "                df =  self.data_frames[table]\n",
    "                best_energy = df[df[\"instance\"] == i].energy.min()\n",
    "                energy.append(best_energy)\n",
    "            table_energies[table] = energy\n",
    "\n",
    "        basis_energy = []\n",
    "        if base == \"best\":\n",
    "            for i in range(len(instances)):\n",
    "                best_known = 0\n",
    "                for table in args:\n",
    "                    if table_energies[table][i] < best_known:\n",
    "                        best_known = table_energies[table][i]\n",
    "                basis_energy.append(best_known)\n",
    "            label_name = r\"E_{best}\"\n",
    "\n",
    "        elif base == \"dwave\":\n",
    "            for table in args:\n",
    "                x = re.search(\"dwave$\", table)\n",
    "                if x:\n",
    "                    frame = table\n",
    "                    break\n",
    "            for i in range(len(instances)):\n",
    "                basis_energy.append(table_energies[frame][i])\n",
    "            label_name = r\"E_{dwave}\"\n",
    "\n",
    "        fig, ax = plt.subplots()\n",
    "        markers = itertools.cycle(('*', '+', '.', \"x\", \"1\", \"2\", \"3\", \"4\"))\n",
    "        for table in args:\n",
    "            energy = table_energies[table]\n",
    "            energy = [(energy[i]-basis_energy[i])/abs(basis_energy[i]) for i in range(len(instances))]\n",
    "            ax.scatter(np.arange(1,len(instances)+1,1), energy, label= self._name_to_legend(table), marker=next(markers))\n",
    "\n",
    "        ax.axhline(y=0, color='r', linestyle='--', alpha=0.5)\n",
    "        ax.set_xlabel('instance index')\n",
    "\n",
    "        ax.set_yscale('symlog', linthresh=0.001, subs=list(range(1,11)))\n",
    "        ax.set_ylim([-0.001, 0.1]) if base==\"best\" else ax.set_ylim([-0.01, 0.1])\n",
    "        ax.set_ylabel(r'$\\frac{(E - %s)}{|%s|}$' % (label_name, label_name), rotation=\"horizontal\", fontsize=15)\n",
    "\n",
    "        ax.xaxis.set_major_locator(MaxNLocator(integer=True))\n",
    "        ax.set_xticks(np.arange(0,len(instances)+1,10))\n",
    "        ax.set_xticks(np.arange(0,len(instances)+1), minor=True)\n",
    "\n",
    "        formatter = ticker.ScalarFormatter(useMathText=True)\n",
    "        formatter.set_scientific(True)\n",
    "        formatter.set_powerlimits((-3, -3))\n",
    "        ax.yaxis.set_major_formatter(formatter)\n",
    "        ax.yaxis.set_label_coords(-0.15, 0.5)\n",
    "\n",
    "        ax.set_title(title)\n",
    "        ax.legend(ncols=2)\n",
    "        #plt.grid(True)\n",
    "        plt.savefig(\"plot.pdf\", bbox_inches=\"tight\")\n",
    "\n",
    "\n",
    "    def available_tables(self):\n",
    "        for frame in self.data_frames.keys():\n",
    "            print(frame)\n",
    "\n",
    "    def available_quantities(self):\n",
    "        available = {}\n",
    "        for name, df in self.data_frames.items():\n",
    "            for column in df.columns:\n",
    "                if column in available.keys():\n",
    "                    available[column].append(name)\n",
    "                else:\n",
    "                    available[column] = [name]\n",
    "        for quantity, tables in available.items():\n",
    "            print(quantity + \": \", tables)\n",
    "\n",
    "    @staticmethod\n",
    "    def _name_to_legend(table_name: str):\n",
    "        # TODO: write better\n",
    "        dw = re.search(\"dwave\", table_name)\n",
    "        sb = re.search(\"sb\", table_name)\n",
    "        peps12 = re.search(r\"tr2\\^12\", table_name)\n",
    "        peps16 = re.search(r\"tr2\\^16\", table_name)\n",
    "        peps20 = re.search(r\"tr2\\^20\", table_name)\n",
    "        if dw:\n",
    "            return \"Dwave\"\n",
    "        elif sb:\n",
    "            return \"Simulated Bifurcation\"\n",
    "        elif peps12:\n",
    "            return \"Truncation 2^12\"\n",
    "        elif peps16:\n",
    "            return \"Truncation 2^16\"\n",
    "        elif peps20:\n",
    "            return \"Truncation 2^20\"\n",
    "        else:\n",
    "            return table_name"
   ],
   "metadata": {
    "collapsed": false,
    "pycharm": {
     "name": "#%%\n"
    }
   }
  },
  {
   "cell_type": "code",
   "execution_count": 117,
   "outputs": [
    {
     "name": "stdout",
     "output_type": "stream",
     "text": [
      "CBFM-P_P16_dwave\n",
      "CBFM-P_P16_sb_updated\n",
      "CBFM-P_P16_truncate2^12\n",
      "CBFM-P_P16_truncate2^16\n",
      "CBFM-P_P4_dwave\n",
      "CBFM-P_P4_truncate2^12\n",
      "CBFM-P_P4_truncate2^16\n",
      "CBFM-P_P4_truncate2^8\n",
      "CBFM-P_P8_truncate2^12\n",
      "CBFM-P_P8_truncate2^16\n",
      "CBFM_P12_sb\n",
      "CBFM_P16_sb\n",
      "CBFM_P4_sb\n",
      "CBFM_P8_sb\n",
      "P16_CBFM-P_tr2^12\n",
      "P16_CBFM-P_tr2^16\n",
      "P16_CBFM-P_tr2^20\n",
      "RCO_Z3_truncate2^8_i1-5\n",
      "RCO_Z4_truncate2^8\n",
      "sb_P16\n",
      "Z3_RCO_tr2^10\n",
      "Z3_RCO_tr2^14\n"
     ]
    }
   ],
   "source": [
    "plotter = UniversalPlotter(data_frames)\n",
    "plotter.available_tables()\n",
    "#plotter.available_quantities()"
   ],
   "metadata": {
    "collapsed": false,
    "pycharm": {
     "name": "#%%\n"
    }
   }
  },
  {
   "cell_type": "code",
   "execution_count": 119,
   "outputs": [
    {
     "data": {
      "text/plain": "<Figure size 640x480 with 1 Axes>",
      "image/png": "[encoded data removed]"
     },
     "metadata": {},
     "output_type": "display_data"
    }
   ],
   "source": [
    "plotter.plot_energies(\"CBFM-P_P16_dwave\", \"CBFM-P_P16_sb_updated\",\"P16_CBFM-P_tr2^16\", \"P16_CBFM-P_tr2^12\", \"P16_CBFM-P_tr2^20\", title=\"P16, CBFM-P\")"
   ],
   "metadata": {
    "collapsed": false,
    "pycharm": {
     "name": "#%%\n"
    }
   }
  },
  {
   "cell_type": "code",
   "execution_count": null,
   "outputs": [],
   "source": [],
   "metadata": {
    "collapsed": false,
    "pycharm": {
     "name": "#%%\n"
    }
   }
  },
  {
   "cell_type": "code",
   "execution_count": null,
   "outputs": [],
   "source": [],
   "metadata": {
    "collapsed": false,
    "pycharm": {
     "name": "#%%\n"
    }
   }
  }
 ],
 "metadata": {
  "kernelspec": {
   "display_name": "Python 3",
   "language": "python",
   "name": "python3"
  },
  "language_info": {
   "codemirror_mode": {
    "name": "ipython",
    "version": 2
   },
   "file_extension": ".py",
   "mimetype": "text/x-python",
   "name": "python",
   "nbconvert_exporter": "python",
   "pygments_lexer": "ipython2",
   "version": "2.7.6"
  }
 },
 "nbformat": 4,
 "nbformat_minor": 0
}