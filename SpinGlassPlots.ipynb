{
 "cells": [
  {
   "cell_type": "markdown",
   "source": [
    "# SpinGlassPlots"
   ],
   "metadata": {
    "collapsed": false,
    "pycharm": {
     "name": "#%% md\n"
    }
   }
  },
  {
   "cell_type": "code",
   "execution_count": 3,
   "outputs": [],
   "source": [
    "# imports\n",
    "import os\n",
    "import glob\n",
    "import pandas as pd\n",
    "import numpy as np\n",
    "import matplotlib.pyplot as plt\n",
    "from typing import Optional\n",
    "import re\n",
    "import tikzplotlib\n",
    "\n",
    "\n",
    "cwd = os.getcwd()"
   ],
   "metadata": {
    "collapsed": false,
    "pycharm": {
     "name": "#%%\n"
    }
   }
  },
  {
   "cell_type": "markdown",
   "source": [],
   "metadata": {
    "collapsed": false,
    "pycharm": {
     "name": "#%% md\n"
    }
   }
  },
  {
   "cell_type": "code",
   "execution_count": 4,
   "outputs": [
    {
     "name": "stdout",
     "output_type": "stream",
     "text": [
      "Successfully created dataframe for CBFM-P_P16_dwave with shape (100, 4)\n",
      "Successfully created dataframe for CBFM-P_P16_truncate2^12 with shape (80, 22)\n",
      "Successfully created dataframe for CBFM-P_P16_truncate2^16 with shape (22, 22)\n",
      "Successfully created dataframe for CBFM-P_P4_dwave with shape (100, 4)\n",
      "Successfully created dataframe for CBFM-P_P4_truncate2^12 with shape (800, 22)\n",
      "Successfully created dataframe for CBFM-P_P4_truncate2^16 with shape (800, 22)\n",
      "Successfully created dataframe for CBFM-P_P4_truncate2^8 with shape (800, 22)\n",
      "Successfully created dataframe for CBFM-P_P8_truncate2^12 with shape (800, 22)\n",
      "Successfully created dataframe for CBFM-P_P8_truncate2^16 with shape (800, 22)\n",
      "Successfully created dataframe for CBFM_P12_sb with shape (100, 6)\n",
      "Successfully created dataframe for CBFM_P16_sb with shape (100, 6)\n",
      "Successfully created dataframe for CBFM_P4_sb with shape (100, 6)\n",
      "Successfully created dataframe for CBFM_P8_sb with shape (100, 6)\n",
      "Successfully created dataframe for RCO_Z3_truncate2^8_i1-5 with shape (320, 22)\n",
      "Successfully created dataframe for RCO_Z4_truncate2^8 with shape (80, 22)\n",
      "Successfully created dataframe for sb_P16 with shape (100, 6)\n"
     ]
    }
   ],
   "source": [
    "#load data\n",
    "path = 'data'\n",
    "files = glob.glob(path + '/*.csv')\n",
    "data_frames = {}\n",
    "for f in files:\n",
    "    name = os.path.basename(f).replace('.csv', '')\n",
    "    temp_df = pd.read_csv(f, sep=\";\")\n",
    "    temp_df = temp_df.dropna(axis=1, how='all')\n",
    "    # create new column with filename\n",
    "    if temp_df[\"instance\"].dtype == \"object\":\n",
    "        temp_df[\"instance\"] = temp_df[\"instance\"].str.replace(\"_sg.txt\", \"\").astype(int)\n",
    "\n",
    "    temp_df['filename'] = name\n",
    "    if name in [\"CBFM-P_P4_dwave\", \"CBFM-P_P16_dwave\"]:\n",
    "        temp_df = temp_df.drop(\"Unnamed: 0\", axis=1)\n",
    "        temp_df.rename(columns = {'best_dwave':'energy'}, inplace = True)\n",
    "\n",
    "    # add dataframe to dictionary\n",
    "    data_frames[name] = temp_df\n",
    "    print(f'Successfully created dataframe for {name} with shape {temp_df.shape}')"
   ],
   "metadata": {
    "collapsed": false,
    "pycharm": {
     "name": "#%%\n"
    }
   }
  },
  {
   "cell_type": "code",
   "execution_count": 5,
   "outputs": [],
   "source": [
    "class UniversalPlotter:\n",
    "    def __init__(self, data: dict):\n",
    "        self.data_frames = data\n",
    "\n",
    "    def plot(self, tables, quantities):\n",
    "        ...\n",
    "\n",
    "    def plot_energies(self, *args):\n",
    "        instance_list = []\n",
    "        for table in args:\n",
    "            instances = self.data_frames[table][\"instance\"].unique()\n",
    "            instance_list.append(instances)\n",
    "        instances = min(instance_list, key=len)\n",
    "\n",
    "\n",
    "        table_energies = {}\n",
    "        for table in args:\n",
    "            energy = []\n",
    "            for i in instances:\n",
    "                df =  self.data_frames[table]\n",
    "                best_energy = df[df[\"instance\"] == i].energy.min()\n",
    "                energy.append(best_energy)\n",
    "            table_energies[table] = energy\n",
    "\n",
    "        basis_energy = []\n",
    "        for i in range(len(instances)):\n",
    "            best_known = 0\n",
    "            for table in args:\n",
    "                if table_energies[table][i] < best_known:\n",
    "                    best_known = table_energies[table][i]\n",
    "            basis_energy.append(best_known)\n",
    "\n",
    "\n",
    "        for table in args:\n",
    "            energy = table_energies[table]\n",
    "            energy = [(energy[i]-basis_energy[i])/abs(basis_energy[i]) for i in range(len(instances))]\n",
    "            plt.scatter(np.arange(1,len(instances)+1,1), energy, label= table)\n",
    "\n",
    "        plt.xlabel('instance index')\n",
    "        plt.ylabel('(E - E_best)/|E_best|')\n",
    "\n",
    "        plt.title(\"energy comparision\")\n",
    "        plt.legend()\n",
    "        plt.savefig(\"plot.pdf\")\n",
    "\n",
    "\n",
    "    def available_tables(self):\n",
    "        for frame in self.data_frames.keys():\n",
    "            print(frame)\n",
    "\n",
    "    def available_quantities(self):\n",
    "        available = {}\n",
    "        for name, df in self.data_frames.items():\n",
    "            for column in df.columns:\n",
    "                if column in available.keys():\n",
    "                    available[column].append(name)\n",
    "                else:\n",
    "                    available[column] = [name]\n",
    "        for quantity, tables in available.items():\n",
    "            print(quantity + \": \", tables)"
   ],
   "metadata": {
    "collapsed": false,
    "pycharm": {
     "name": "#%%\n"
    }
   }
  },
  {
   "cell_type": "code",
   "execution_count": 6,
   "outputs": [
    {
     "name": "stdout",
     "output_type": "stream",
     "text": [
      "CBFM-P_P16_dwave\n",
      "CBFM-P_P16_truncate2^12\n",
      "CBFM-P_P16_truncate2^16\n",
      "CBFM-P_P4_dwave\n",
      "CBFM-P_P4_truncate2^12\n",
      "CBFM-P_P4_truncate2^16\n",
      "CBFM-P_P4_truncate2^8\n",
      "CBFM-P_P8_truncate2^12\n",
      "CBFM-P_P8_truncate2^16\n",
      "CBFM_P12_sb\n",
      "CBFM_P16_sb\n",
      "CBFM_P4_sb\n",
      "CBFM_P8_sb\n",
      "RCO_Z3_truncate2^8_i1-5\n",
      "RCO_Z4_truncate2^8\n",
      "sb_P16\n"
     ]
    }
   ],
   "source": [
    "plotter = UniversalPlotter(data_frames)\n",
    "plotter.available_tables()\n",
    "#plotter.available_quantities()"
   ],
   "metadata": {
    "collapsed": false,
    "pycharm": {
     "name": "#%%\n"
    }
   }
  },
  {
   "cell_type": "markdown",
   "source": [],
   "metadata": {
    "collapsed": false,
    "pycharm": {
     "name": "#%% md\n"
    }
   }
  },
  {
   "cell_type": "markdown",
   "source": [],
   "metadata": {
    "collapsed": false,
    "pycharm": {
     "name": "#%% md\n"
    }
   }
  },
  {
   "cell_type": "markdown",
   "source": [],
   "metadata": {
    "collapsed": false,
    "pycharm": {
     "name": "#%% md\n"
    }
   }
  },
  {
   "cell_type": "code",
   "execution_count": 7,
   "outputs": [
    {
     "data": {
      "text/plain": "<Figure size 640x480 with 1 Axes>",
      "image/png": "[encoded data removed]"
     },
     "metadata": {},
     "output_type": "display_data"
    }
   ],
   "source": [
    "plotter.plot_energies(\"sb_P16\", \"CBFM-P_P16_dwave\", \"CBFM-P_P16_truncate2^16\", \"CBFM_P16_sb\")"
   ],
   "metadata": {
    "collapsed": false,
    "pycharm": {
     "name": "#%%\n"
    }
   }
  },
  {
   "cell_type": "code",
   "execution_count": 7,
   "outputs": [],
   "source": [],
   "metadata": {
    "collapsed": false,
    "pycharm": {
     "name": "#%%\n"
    }
   }
  }
 ],
 "metadata": {
  "kernelspec": {
   "display_name": "Python 3",
   "language": "python",
   "name": "python3"
  },
  "language_info": {
   "codemirror_mode": {
    "name": "ipython",
    "version": 2
   },
   "file_extension": ".py",
   "mimetype": "text/x-python",
   "name": "python",
   "nbconvert_exporter": "python",
   "pygments_lexer": "ipython2",
   "version": "2.7.6"
  }
 },
 "nbformat": 4,
 "nbformat_minor": 0
}